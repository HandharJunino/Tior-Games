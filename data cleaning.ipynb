{
 "cells": [
  {
   "cell_type": "code",
   "execution_count": 27,
   "metadata": {},
   "outputs": [],
   "source": [
    "#%pip install pandas\n",
    "#%pip install numpy\n",
    "import pandas as pd\n",
    "import numpy as np\n",
    "import json"
   ]
  },
  {
   "cell_type": "code",
   "execution_count": 28,
   "metadata": {},
   "outputs": [
    {
     "data": {
      "text/plain": [
       "(35, 15)"
      ]
     },
     "execution_count": 28,
     "metadata": {},
     "output_type": "execute_result"
    }
   ],
   "source": [
    "# Read the CSV file\n",
    "# The CSV file is saved in the same directory as this notebook\n",
    "csv_data = pd.read_csv('GameFact_MockData.xlsx - Sheet1.csv')\n",
    "csv_data.head()\n",
    "\n",
    "# Read the JSON file\n",
    "# The JSON file is saved in the same directory as this notebook\n",
    "## json_data = pd.read_json('GameFactMockData2.json')\n",
    "\n",
    "with open('GameFactMockData2.json', 'r', encoding='utf-8') as f:\n",
    "    json_data = json.load(f)\n",
    "json_data = pd.json_normalize(json_data, record_path=[\"gamefact_data\"])\n",
    "\n",
    "json_data.head()\n",
    "\n",
    "# Combine the CSV and JSON data into a single DataFrame\n",
    "raw_data = pd.concat([csv_data, json_data], axis=0, ignore_index=True)\n",
    "raw_data.head()\n",
    "raw_data.shape\n"
   ]
  },
  {
   "cell_type": "code",
   "execution_count": 29,
   "metadata": {},
   "outputs": [
    {
     "data": {
      "text/plain": [
       "(30, 15)"
      ]
     },
     "execution_count": 29,
     "metadata": {},
     "output_type": "execute_result"
    }
   ],
   "source": [
    "cleaned_data_1 = raw_data.dropna(subset=['EventID', 'StadiumID', 'RefereeID', 'GameID', 'TimeID', 'DateID', 'GameDuration', 'GameTeam', 'GameInterruption', 'GameResult'])\n",
    "cleaned_data_1.shape"
   ]
  },
  {
   "cell_type": "code",
   "execution_count": 31,
   "metadata": {},
   "outputs": [],
   "source": [
    "expected_types = {\n",
    "    'EventID': int,\n",
    "    'StadiumID': int,\n",
    "    'RefereeID': int,\n",
    "    'GameID': int,\n",
    "    'TimeID': int,\n",
    "    'DateID': int,\n",
    "    'GameDuration': int,\n",
    "    'GameTeam': str,\n",
    "    'GameInterruption': int,\n",
    "    'GameResult': str\n",
    "}\n",
    "\n",
    "def is_valid_row(row):\n",
    "    for col, dtype in expected_types.items():\n",
    "        try:\n",
    "            # Convert value to expected type\n",
    "            value = dtype(row[col])\n",
    "            # Reject negative values for integer columns\n",
    "            if dtype is int and value < 0:\n",
    "                return False\n",
    "        except (ValueError, TypeError):\n",
    "            return False  # Reject the row if conversion fails\n",
    "    return True\n",
    "\n",
    "# Apply row-wise filtering\n",
    "cleaned_data_2 = cleaned_data_1[cleaned_data_1.apply(is_valid_row, axis=1)].reset_index(drop=True)"
   ]
  }
 ],
 "metadata": {
  "kernelspec": {
   "display_name": "Python 3",
   "language": "python",
   "name": "python3"
  },
  "language_info": {
   "codemirror_mode": {
    "name": "ipython",
    "version": 3
   },
   "file_extension": ".py",
   "mimetype": "text/x-python",
   "name": "python",
   "nbconvert_exporter": "python",
   "pygments_lexer": "ipython3",
   "version": "3.10.9"
  }
 },
 "nbformat": 4,
 "nbformat_minor": 2
}
